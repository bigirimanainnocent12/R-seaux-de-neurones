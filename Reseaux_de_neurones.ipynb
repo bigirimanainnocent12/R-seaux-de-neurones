{
  "nbformat": 4,
  "nbformat_minor": 0,
  "metadata": {
    "colab": {
      "provenance": [],
      "authorship_tag": "ABX9TyN+qcFNz6bqeTllLe0ivRaN",
      "include_colab_link": true
    },
    "kernelspec": {
      "name": "python3",
      "display_name": "Python 3"
    },
    "language_info": {
      "name": "python"
    }
  },
  "cells": [
    {
      "cell_type": "markdown",
      "metadata": {
        "id": "view-in-github",
        "colab_type": "text"
      },
      "source": [
        "<a href=\"https://colab.research.google.com/github/bigirimanainnocent12/R-seaux-de-neurones/blob/main/Reseaux_de_neurones.ipynb\" target=\"_parent\"><img src=\"https://colab.research.google.com/assets/colab-badge.svg\" alt=\"Open In Colab\"/></a>"
      ]
    },
    {
      "cell_type": "markdown",
      "source": [
        "# **Création des tenseurs**"
      ],
      "metadata": {
        "id": "KWxBxweVW65Z"
      }
    },
    {
      "cell_type": "code",
      "source": [
        "import torch"
      ],
      "metadata": {
        "id": "5DUWSrL5XGZB"
      },
      "execution_count": 1,
      "outputs": []
    },
    {
      "cell_type": "markdown",
      "source": [
        "# **Tenseur en PyTorch **"
      ],
      "metadata": {
        "id": "08K16Lx5XqWa"
      }
    },
    {
      "cell_type": "markdown",
      "source": [
        "# **un scalaire**"
      ],
      "metadata": {
        "id": "jjttb3teYIZm"
      }
    },
    {
      "cell_type": "code",
      "execution_count": 9,
      "metadata": {
        "id": "oQTLkbjqWVKP",
        "outputId": "9e546ef2-adae-4d28-be02-e23bc9265ec7",
        "colab": {
          "base_uri": "https://localhost:8080/"
        }
      },
      "outputs": [
        {
          "output_type": "execute_result",
          "data": {
            "text/plain": [
              "1.0"
            ]
          },
          "metadata": {},
          "execution_count": 9
        }
      ],
      "source": [
        "tenseur=torch.tensor(1.0)\n",
        "tenseur.item()"
      ]
    },
    {
      "cell_type": "markdown",
      "source": [
        "# **Vecteur**"
      ],
      "metadata": {
        "id": "F1jFPfZBXt8m"
      }
    },
    {
      "cell_type": "code",
      "source": [
        "vec=torch.tensor([1,5,2,3,65,4,7])\n",
        "vec[0:3]"
      ],
      "metadata": {
        "id": "RDplwaLwXwm4",
        "outputId": "2e20ff6a-3c12-4dac-c304-19b81dd28a89",
        "colab": {
          "base_uri": "https://localhost:8080/"
        }
      },
      "execution_count": 8,
      "outputs": [
        {
          "output_type": "execute_result",
          "data": {
            "text/plain": [
              "tensor([1, 5, 2])"
            ]
          },
          "metadata": {},
          "execution_count": 8
        }
      ]
    },
    {
      "cell_type": "markdown",
      "source": [
        "# **Matrice **"
      ],
      "metadata": {
        "id": "5SpCB1E6YRLs"
      }
    },
    {
      "cell_type": "code",
      "source": [
        "mat=torch.tensor([[14,5,3,6,5],[54,2,58,69,785],[14,58,65,65,65]])\n",
        "mat[:][0]"
      ],
      "metadata": {
        "id": "DKjWLMRXYQq1",
        "outputId": "f2ef6518-149e-426e-ea25-df65e4c252b5",
        "colab": {
          "base_uri": "https://localhost:8080/"
        }
      },
      "execution_count": 21,
      "outputs": [
        {
          "output_type": "execute_result",
          "data": {
            "text/plain": [
              "tensor([14,  5,  3,  6,  5])"
            ]
          },
          "metadata": {},
          "execution_count": 21
        }
      ]
    },
    {
      "cell_type": "code",
      "source": [
        "mat[:2,:2]"
      ],
      "metadata": {
        "id": "hw84qKyxZUTj",
        "outputId": "8072d5e9-b070-49da-b2e1-2b39662970f8",
        "colab": {
          "base_uri": "https://localhost:8080/"
        }
      },
      "execution_count": 26,
      "outputs": [
        {
          "output_type": "execute_result",
          "data": {
            "text/plain": [
              "tensor([[14,  5],\n",
              "        [54,  2]])"
            ]
          },
          "metadata": {},
          "execution_count": 26
        }
      ]
    },
    {
      "cell_type": "code",
      "source": [
        "mat"
      ],
      "metadata": {
        "id": "gCEsgKrpY9DH",
        "outputId": "dc5ec91b-e509-4f18-ef8f-7202172c1070",
        "colab": {
          "base_uri": "https://localhost:8080/"
        }
      },
      "execution_count": 27,
      "outputs": [
        {
          "output_type": "execute_result",
          "data": {
            "text/plain": [
              "tensor([[ 14,   5,   3,   6,   5],\n",
              "        [ 54,   2,  58,  69, 785],\n",
              "        [ 14,  58,  65,  65,  65]])"
            ]
          },
          "metadata": {},
          "execution_count": 27
        }
      ]
    }
  ]
}